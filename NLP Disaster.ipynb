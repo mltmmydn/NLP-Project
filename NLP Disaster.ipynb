{
 "cells": [
  {
   "cell_type": "code",
   "execution_count": 1,
   "id": "56a2a424-4c20-43d0-ae87-fdd0ad5f2cb9",
   "metadata": {},
   "outputs": [
    {
     "name": "stderr",
     "output_type": "stream",
     "text": [
      "[nltk_data] Downloading package stopwords to\n",
      "[nltk_data]     C:\\Users\\first\\AppData\\Roaming\\nltk_data...\n",
      "[nltk_data]   Package stopwords is already up-to-date!\n",
      "[nltk_data] Downloading package wordnet to\n",
      "[nltk_data]     C:\\Users\\first\\AppData\\Roaming\\nltk_data...\n",
      "[nltk_data]   Package wordnet is already up-to-date!\n",
      "[nltk_data] Downloading package omw-1.4 to\n",
      "[nltk_data]     C:\\Users\\first\\AppData\\Roaming\\nltk_data...\n",
      "[nltk_data]   Package omw-1.4 is already up-to-date!\n"
     ]
    }
   ],
   "source": [
    "import tensorflow as tf\n",
    "import pandas as pd\n",
    "import numpy as np\n",
    "import opendatasets as od\n",
    "import os\n",
    "from sklearn.feature_extraction.text import TfidfVectorizer\n",
    "from sklearn.model_selection import train_test_split\n",
    "import nltk\n",
    "nltk.download('stopwords')\n",
    "nltk.download('wordnet')\n",
    "nltk.download('omw-1.4')\n",
    "from nltk.corpus import stopwords\n",
    "from nltk.stem import WordNetLemmatizer\n",
    "import re\n",
    "import matplotlib.pyplot as plt"
   ]
  },
  {
   "cell_type": "code",
   "execution_count": 2,
   "id": "a927328e-317b-457e-8d49-33fe7f4aa4ba",
   "metadata": {},
   "outputs": [
    {
     "data": {
      "text/plain": [
       "'C:\\\\Users\\\\first\\\\Desktop\\\\DTSA_5511_HW\\\\Week4'"
      ]
     },
     "execution_count": 2,
     "metadata": {},
     "output_type": "execute_result"
    }
   ],
   "source": [
    "os.chdir(\"C:/Users/first/Desktop/DTSA_5511_HW/Week4\")\n",
    "os.getcwd()"
   ]
  },
  {
   "cell_type": "code",
   "execution_count": 3,
   "id": "2f577258-36b2-4adf-bdd4-cb744aa16718",
   "metadata": {},
   "outputs": [
    {
     "name": "stdout",
     "output_type": "stream",
     "text": [
      "Skipping, found downloaded files in \".\\nlp-getting-started\" (use force=True to force download)\n"
     ]
    }
   ],
   "source": [
    "od.download(\"https://www.kaggle.com/competitions/nlp-getting-started/data\")"
   ]
  },
  {
   "cell_type": "code",
   "execution_count": 4,
   "id": "c26d059c-aa47-49c8-8c6c-1e41f5367240",
   "metadata": {},
   "outputs": [
    {
     "data": {
      "text/plain": [
       "[PhysicalDevice(name='/physical_device:GPU:0', device_type='GPU')]"
      ]
     },
     "execution_count": 4,
     "metadata": {},
     "output_type": "execute_result"
    }
   ],
   "source": [
    "tf.config.list_physical_devices('GPU')"
   ]
  },
  {
   "cell_type": "markdown",
   "id": "55dc2ab1-b92f-4e50-ab1b-d41fa9d09744",
   "metadata": {},
   "source": [
    "# Disaster Tweet Classification through TensorFlow Recurrent Nueral Networks\n",
    "\n",
    "\n",
    "## Problem and Data Description\n",
    "\n",
    "In this project I will pull data we will construct a couple RNNs to classify binary text data as either \"disaster\" or \"not disaster\". The data come from a (Kaggle \"getting started\" competition)[https://www.kaggle.com/competitions/nlp-getting-started/overview] designed to be an excellent introduction to Natural Language Processing. The goal of NLP is to input text data and output something. NLP could output a \"mood\" for sentiment analysis, a predicted stock price from ticker mentions, more text in the frame of language conversion, and countless other outputs in a variety of applications. I will utilize TensorFlow's Keras API to build a recurrent nueral network to perform binary classification. A recurrent nueral network is suited for data with a fixed series, for example: time series data like stock price, code translation from one language to machine language, next-frame generation from videos and/or gifs, and as I perform in the following project text classification in buckets - disaster vs. not disaster. \n",
    "\n",
    "The data in this project are tweets. There are three meaningful features: the full text of the tweet, the location from which the tweet was made, and a keyword the authors tagged as potentially indicating an accident. Note that not all keyword inclusions are the result of disasters.\n",
    "\n",
    "Here's a barebones description of the data we will be modelling in this project. We will do a more thourough investigation in my EDA section:"
   ]
  },
  {
   "cell_type": "code",
   "execution_count": 5,
   "id": "7baf4a46-4ee1-425e-83ee-2da1d8598ba8",
   "metadata": {},
   "outputs": [
    {
     "name": "stdout",
     "output_type": "stream",
     "text": [
      "<class 'pandas.core.frame.DataFrame'>\n",
      "RangeIndex: 7613 entries, 0 to 7612\n",
      "Data columns (total 5 columns):\n",
      " #   Column    Non-Null Count  Dtype \n",
      "---  ------    --------------  ----- \n",
      " 0   id        7613 non-null   int64 \n",
      " 1   keyword   7552 non-null   object\n",
      " 2   location  5080 non-null   object\n",
      " 3   text      7613 non-null   object\n",
      " 4   target    7613 non-null   int64 \n",
      "dtypes: int64(2), object(3)\n",
      "memory usage: 297.5+ KB\n",
      "None\n"
     ]
    }
   ],
   "source": [
    "train_df = pd.read_csv(\"./nlp-getting-started/train.csv\")\n",
    "test_df = pd.read_csv(\"./nlp-getting-started/test.csv\")\n",
    "\n",
    "print(train_df.info())"
   ]
  },
  {
   "cell_type": "code",
   "execution_count": 6,
   "id": "ff268944-153d-4641-8ee7-7367983879a1",
   "metadata": {},
   "outputs": [
    {
     "name": "stdout",
     "output_type": "stream",
     "text": [
      "                 id      target\n",
      "count   7613.000000  7613.00000\n",
      "mean    5441.934848     0.42966\n",
      "std     3137.116090     0.49506\n",
      "min        1.000000     0.00000\n",
      "25%     2734.000000     0.00000\n",
      "50%     5408.000000     0.00000\n",
      "75%     8146.000000     1.00000\n",
      "max    10873.000000     1.00000\n"
     ]
    }
   ],
   "source": [
    "print(train_df.describe())"
   ]
  },
  {
   "cell_type": "code",
   "execution_count": 7,
   "id": "1937b3a7-bd0d-4957-aeb3-5ca3d8ab1c35",
   "metadata": {},
   "outputs": [
    {
     "data": {
      "text/html": [
       "<div>\n",
       "<style scoped>\n",
       "    .dataframe tbody tr th:only-of-type {\n",
       "        vertical-align: middle;\n",
       "    }\n",
       "\n",
       "    .dataframe tbody tr th {\n",
       "        vertical-align: top;\n",
       "    }\n",
       "\n",
       "    .dataframe thead th {\n",
       "        text-align: right;\n",
       "    }\n",
       "</style>\n",
       "<table border=\"1\" class=\"dataframe\">\n",
       "  <thead>\n",
       "    <tr style=\"text-align: right;\">\n",
       "      <th></th>\n",
       "      <th>id</th>\n",
       "      <th>keyword</th>\n",
       "      <th>location</th>\n",
       "      <th>text</th>\n",
       "      <th>target</th>\n",
       "    </tr>\n",
       "  </thead>\n",
       "  <tbody>\n",
       "    <tr>\n",
       "      <th>276</th>\n",
       "      <td>402</td>\n",
       "      <td>apocalypse</td>\n",
       "      <td>Texas</td>\n",
       "      <td>Apocalypse please</td>\n",
       "      <td>0</td>\n",
       "    </tr>\n",
       "    <tr>\n",
       "      <th>3599</th>\n",
       "      <td>5139</td>\n",
       "      <td>fatal</td>\n",
       "      <td>NaN</td>\n",
       "      <td>@spookyfob @feelslikefob I am okay thank you y...</td>\n",
       "      <td>0</td>\n",
       "    </tr>\n",
       "    <tr>\n",
       "      <th>3810</th>\n",
       "      <td>5412</td>\n",
       "      <td>first%20responders</td>\n",
       "      <td>Nashville, Tennessee</td>\n",
       "      <td>I'm grateful for our first responders - @MNPDN...</td>\n",
       "      <td>1</td>\n",
       "    </tr>\n",
       "    <tr>\n",
       "      <th>3351</th>\n",
       "      <td>4797</td>\n",
       "      <td>evacuated</td>\n",
       "      <td>seoul</td>\n",
       "      <td>Rocky Fire http://t.co/wxhMp5ppjq</td>\n",
       "      <td>1</td>\n",
       "    </tr>\n",
       "    <tr>\n",
       "      <th>7420</th>\n",
       "      <td>10613</td>\n",
       "      <td>wounded</td>\n",
       "      <td>USA</td>\n",
       "      <td>Police Officer Wounded Suspect Dead After Exch...</td>\n",
       "      <td>1</td>\n",
       "    </tr>\n",
       "  </tbody>\n",
       "</table>\n",
       "</div>"
      ],
      "text/plain": [
       "         id             keyword              location  \\\n",
       "276     402          apocalypse                 Texas   \n",
       "3599   5139               fatal                   NaN   \n",
       "3810   5412  first%20responders  Nashville, Tennessee   \n",
       "3351   4797           evacuated                 seoul   \n",
       "7420  10613             wounded                   USA   \n",
       "\n",
       "                                                   text  target  \n",
       "276                                   Apocalypse please       0  \n",
       "3599  @spookyfob @feelslikefob I am okay thank you y...       0  \n",
       "3810  I'm grateful for our first responders - @MNPDN...       1  \n",
       "3351                  Rocky Fire http://t.co/wxhMp5ppjq       1  \n",
       "7420  Police Officer Wounded Suspect Dead After Exch...       1  "
      ]
     },
     "execution_count": 7,
     "metadata": {},
     "output_type": "execute_result"
    }
   ],
   "source": [
    "#Random subset of rows\n",
    "from random import sample\n",
    "rows = sample([i for i in range(7613)], 5)\n",
    "train_df.iloc[rows, :]"
   ]
  },
  {
   "cell_type": "markdown",
   "id": "41e46567-5fa3-4376-bdb8-8c64c84a5846",
   "metadata": {},
   "source": [
    "## Cleaning and Exploratory Data Analysis\n",
    "\n",
    "There are 7613 rows in the dataset total, of which id, text, and target are fully populated. Location is recorded for 5080 records, and there are keywords for all but 61 observations. We need to do some initial cleaning because the data types for keyword, location, and text should be strings, but they are \"object\". "
   ]
  },
  {
   "cell_type": "markdown",
   "id": "8a19873d-9574-43dc-b49f-7cd04cebfabc",
   "metadata": {},
   "source": [
    "Here are the two questions I asked myself immediately: (1) Is keyword a useful predictor of target? (2) What about location? If variance in the features do not correlate with large variance in the binary response, we can say that the location / keyword can be ignored as a feature. Otherwise, we should include the feature. I'll make a histogram of counts ver proportion of tweets with each label for both keywords and targets, grouped by feature, for groups with at least 30 observations. We want to ensure we only include groups with at least 30 observations to let the central limit theorem do it's work. We should get a distribution that is approaching Gaussian if the feature is \"nice\". This happens to be easier to do in R using tidyverse, so I'll do it there and import the graphs I made. I will also provide a copy of the .rmd in my GitHub repo for this project for the sake of reproducability. Let's start with location.\n",
    "\n",
    "![Location_Observations](location_observation.png)\n",
    "\n",
    "What can we learn from this? The locations are super high-variance entities, and don't resemble a nice probability distribution. Although nueral networks are universal function approximators and so could reproduce the location distribution for the training data, the locations are so high variance that we are unlikely to gain much advantage from feeding the RNN location information. Some locations are very rare, so we could drastically overfit based on location. Even if we don't (by heavily controlling for validation accuracy), the computation cost vs. marginal benefit to binary crossentropy seems not worthwhile. \n",
    "\n",
    "As further evidence against usage of location as a feature, let's look at a histogram of the marginal pdf for location.\n",
    "\n",
    "![Location PDF](PDF_Locations.png)"
   ]
  },
  {
   "cell_type": "markdown",
   "id": "e71e12a5-a3dc-4340-8ad6-2f4e982ebfb1",
   "metadata": {},
   "source": [
    "Now let's look at keyword.\n",
    "\n",
    "\n",
    "![Keywords_Distribution](keyword_mentions.png)\n",
    "\n",
    "Keyword is a fabulous feature in contrast to location. The pdf per target value is reasonably continuous and ranges over a wide swath of the domain $[0, 1]$. One thing though - inclusion of keyword doesn't pass a sanity check. The reason the keyword exists is because it is a standout **word in the tweet** that might indicate the presence of a disaster. It doesn't make sense to manually weight any given keyword more than any other, because the whole point of using a nueral network on NLP is to let it find the optimal weights for each word / character. So, in summary: we have reason to completely exclude both location and keyword from our nueral network. This has the added benefit of allowing us to use the entire training dataset without pruning missing values, because every tweet has text. ID is also not a useful feature - it seems like vestigial as a primary key from the original dataset before splitting into test and train and hosting on Kaggle.\n",
    "\n",
    "Here's the pdf for keyword, if you were interested.\n",
    "\n",
    "![Keyword PDF](PDF_Keywords.png)\n",
    "\n",
    "Here's the updated training data:"
   ]
  },
  {
   "cell_type": "code",
   "execution_count": 8,
   "id": "3d39fa25-d614-434e-beb6-bc1485c1a629",
   "metadata": {},
   "outputs": [
    {
     "data": {
      "text/html": [
       "<div>\n",
       "<style scoped>\n",
       "    .dataframe tbody tr th:only-of-type {\n",
       "        vertical-align: middle;\n",
       "    }\n",
       "\n",
       "    .dataframe tbody tr th {\n",
       "        vertical-align: top;\n",
       "    }\n",
       "\n",
       "    .dataframe thead th {\n",
       "        text-align: right;\n",
       "    }\n",
       "</style>\n",
       "<table border=\"1\" class=\"dataframe\">\n",
       "  <thead>\n",
       "    <tr style=\"text-align: right;\">\n",
       "      <th></th>\n",
       "      <th>id</th>\n",
       "      <th>text</th>\n",
       "      <th>target</th>\n",
       "    </tr>\n",
       "  </thead>\n",
       "  <tbody>\n",
       "    <tr>\n",
       "      <th>276</th>\n",
       "      <td>402</td>\n",
       "      <td>Apocalypse please</td>\n",
       "      <td>0</td>\n",
       "    </tr>\n",
       "    <tr>\n",
       "      <th>3599</th>\n",
       "      <td>5139</td>\n",
       "      <td>@spookyfob @feelslikefob I am okay thank you y...</td>\n",
       "      <td>0</td>\n",
       "    </tr>\n",
       "    <tr>\n",
       "      <th>3810</th>\n",
       "      <td>5412</td>\n",
       "      <td>I'm grateful for our first responders - @MNPDN...</td>\n",
       "      <td>1</td>\n",
       "    </tr>\n",
       "    <tr>\n",
       "      <th>3351</th>\n",
       "      <td>4797</td>\n",
       "      <td>Rocky Fire http://t.co/wxhMp5ppjq</td>\n",
       "      <td>1</td>\n",
       "    </tr>\n",
       "    <tr>\n",
       "      <th>7420</th>\n",
       "      <td>10613</td>\n",
       "      <td>Police Officer Wounded Suspect Dead After Exch...</td>\n",
       "      <td>1</td>\n",
       "    </tr>\n",
       "  </tbody>\n",
       "</table>\n",
       "</div>"
      ],
      "text/plain": [
       "         id                                               text  target\n",
       "276     402                                  Apocalypse please       0\n",
       "3599   5139  @spookyfob @feelslikefob I am okay thank you y...       0\n",
       "3810   5412  I'm grateful for our first responders - @MNPDN...       1\n",
       "3351   4797                  Rocky Fire http://t.co/wxhMp5ppjq       1\n",
       "7420  10613  Police Officer Wounded Suspect Dead After Exch...       1"
      ]
     },
     "execution_count": 8,
     "metadata": {},
     "output_type": "execute_result"
    }
   ],
   "source": [
    "# Remove keyword and location features from test and train\n",
    "tweets_train_df = train_df[[\"id\", \"text\", \"target\"]].sort_values(by = \"id\")\n",
    "tweets_test_df = test_df[[\"id\", \"text\"]].sort_values(by = \"id\")\n",
    "\n",
    "# Updated training dataframe\n",
    "tweets_train_df.iloc[rows]"
   ]
  },
  {
   "cell_type": "markdown",
   "id": "bf157f60-9a3d-421c-a43d-25b89c1c0db6",
   "metadata": {},
   "source": [
    "### Transformation with TF-IDF:\n",
    "\n",
    "TF-IDF stands for term frequency - inverse data frequency. TF-IDF constructs a skewed matrix, which then can be normalized into a form that is convenient to factor. Fortunately sklearn takes care of this normalization for us. In TF-IDF each word is given a weight which balances it's frequency with its rarity, the underlying idea being that globally rare words are useful as categorical identifiers, and the more frequent such \"buzzwords\" are used the more clear indication of a category it is. Here's the math:\n",
    "\n",
    "The frequency of a term in a document (i.e. a word or phrase, but in our implementation it will just be a word due to processing time concerns) is calculated as:\n",
    "\n",
    "$$TF(i, j) = \\frac{\\text{Frequency of term i in document j}}{\\text{Total word count of document j}}$$\n",
    "\n",
    "The inverse document frequency of a term over all documents is calculated as:\n",
    "\n",
    "$$IDF(i) = \\log_2{\\frac{\\text{Total number of documents}}{\\text{Number of documents with term i}}}$$\n",
    "\n",
    "By multiplying these quantities, we obtain weights for word \"usefulness\" in identifying categories. We can run this over all articles in a desired dataframe (either test or train) to construct a matrix of dimension (number of documents, number of unique terms). \n",
    "\n",
    "One issue is that stopwords like \"the\", \"I\", \"we\", \"he\", etc. are the most prevalent in text, and do not indicate whether a disaster has taken place. As such the weights will be very slow to update in our GAN. We therefore need to cleanse the stopwords. There are some fortunately very good libraries for this!\n",
    "\n",
    "Citation: \n",
    "\n",
    "[Medium article 1](https://medium.com/@imamun/creating-a-tf-idf-in-python-e43f05e4d424)\n",
    "\n",
    "[Medium article 2](https://medium.com/swlh/text-classification-using-tf-idf-7404e75565b8)\n"
   ]
  },
  {
   "cell_type": "code",
   "execution_count": 9,
   "id": "c15e8a25-a3ee-4980-b0aa-fec088f60476",
   "metadata": {},
   "outputs": [
    {
     "name": "stdout",
     "output_type": "stream",
     "text": [
      "0\n"
     ]
    },
    {
     "name": "stderr",
     "output_type": "stream",
     "text": [
      "C:\\Users\\first\\AppData\\Local\\Temp\\ipykernel_234704\\1892226191.py:17: SettingWithCopyWarning: \n",
      "A value is trying to be set on a copy of a slice from a DataFrame\n",
      "\n",
      "See the caveats in the documentation: https://pandas.pydata.org/pandas-docs/stable/user_guide/indexing.html#returning-a-view-versus-a-copy\n",
      "  ds[m] = main_words\n"
     ]
    },
    {
     "name": "stdout",
     "output_type": "stream",
     "text": [
      "1000\n",
      "2000\n",
      "3000\n",
      "4000\n",
      "5000\n",
      "6000\n",
      "7000\n",
      "0\n",
      "1000\n",
      "2000\n",
      "3000\n"
     ]
    }
   ],
   "source": [
    "\n",
    "#Function courtesy of Shradda Anala\n",
    "def fix_stopwords(ds: pd.Series) -> pd.Series: \n",
    "    \"\"\"\n",
    "    Apply NLP Preprocessing Techniques to the reviews.\n",
    "    \"\"\"\n",
    "    for m in range(len(ds)):\n",
    "        if m % 1000 == 0: #Rudimentary progress bar. Feel free to remove, but this bit takes a while so it's nice.\n",
    "            print(m)\n",
    "        main_words = re.sub('[^a-zA-Z]', ' ', ds[m])                                      # Retain only alphabets\n",
    "        main_words = (main_words.lower()).split()\n",
    "        main_words = [w for w in main_words if not w in set(stopwords.words('english'))]  # Remove stopwords\n",
    "        \n",
    "        lem = WordNetLemmatizer()\n",
    "        main_words = [lem.lemmatize(w) for w in main_words if len(w) > 1]                 # Group different forms of the same word\n",
    "        \n",
    "        main_words = ' '.join(main_words)\n",
    "        ds[m] = main_words\n",
    "\n",
    "    return ds\n",
    "\n",
    "#Clean up stopwords from test and train\n",
    "tweets_train_df[\"text\"] = fix_stopwords(tweets_train_df[\"text\"])\n",
    "tweets_test_df[\"text\"] = fix_stopwords(tweets_test_df[\"text\"])"
   ]
  },
  {
   "cell_type": "code",
   "execution_count": 10,
   "id": "bf1efe81-6502-40c1-9b1f-ceb281dd87b1",
   "metadata": {},
   "outputs": [
    {
     "name": "stdout",
     "output_type": "stream",
     "text": [
      "(7003, 1000) (610, 1000) (3263, 1000)\n",
      "(7003,) (610,)\n"
     ]
    }
   ],
   "source": [
    "# Feature extraction on training data\n",
    "train_corpus = tweets_train_df[\"text\"].tolist()\n",
    "vector = TfidfVectorizer(max_features=1000)\n",
    "interemresponse = vector.fit(train_corpus)\n",
    "\n",
    "train_and_val = interemresponse.transform(tweets_train_df[\"text\"]).todense()\n",
    "\n",
    "X_train, X_val, y_train, y_val = train_test_split(train_and_val, tweets_train_df[\"target\"], test_size=0.08, random_state=42)\n",
    "\n",
    "X_test = interemresponse.transform(tweets_test_df[\"text\"]).todense()\n",
    "\n",
    "#Sanity check to make sure all the TF-IDF matrix dimensions are correct.\n",
    "print(X_train.shape, X_val.shape, X_test.shape)\n",
    "print(y_train.shape, y_val.shape)"
   ]
  },
  {
   "cell_type": "markdown",
   "id": "164decb2-9494-4407-af3a-499a51cadf87",
   "metadata": {},
   "source": [
    "## Model Architecture, Results, and Analysis\n",
    "The tensorflow team supplies [a tutorial for using RNN for text classification](https://www.tensorflow.org/text/tutorials/text_classification_rnn) which I will be following and adapting for this project. The tutorial uses an auto-encoder, and so we will actually change tack and not use TF-IDF with the RNN and just do an ANN with TF-IDF. We will then compare against the RNN as an architecture optimization."
   ]
  },
  {
   "cell_type": "code",
   "execution_count": 96,
   "id": "449f2bc5-47a6-4aad-8578-913daa8429c8",
   "metadata": {},
   "outputs": [],
   "source": [
    "def buildANN_Model(eta):\n",
    "    \"\"\"\n",
    "        Builds a bidirectional RNN to predict whether a tweet indicates a disaster occurance.\n",
    "        Input:\n",
    "            float eta, the initial learning rate\n",
    "            string compiler, either \"Adam\" or \"RMSprop\"\n",
    "        Output:\n",
    "            \n",
    "    \"\"\"\n",
    "    \n",
    "    shape = (1000, )\n",
    "    lr_schedule = tf.keras.optimizers.schedules.ExponentialDecay(\n",
    "      initial_learning_rate = eta,\n",
    "      decay_steps = 1000,\n",
    "      decay_rate=0.9\n",
    "      ) \n",
    "    \n",
    "    model = tf.keras.Sequential()\n",
    "    model.add(tf.keras.Input(shape = shape))\n",
    "    model.add(tf.keras.layers.Dense(128, activation = \"relu\"))\n",
    "    model.add(tf.keras.layers.Dropout(0.25))\n",
    "    model.add(tf.keras.layers.Dense(128, activation = \"relu\"))\n",
    "    model.add(tf.keras.layers.Dropout(0.25))\n",
    "    model.add(tf.keras.layers.Dense(1, activation = \"sigmoid\"))   \n",
    "    \n",
    "    model.compile(\n",
    "        optimizer = tf.keras.optimizers.Adam(learning_rate = lr_schedule),\n",
    "        loss = \"binary_crossentropy\",\n",
    "        metrics = [\"accuracy\"]\n",
    "    )    \n",
    "    return(model)"
   ]
  },
  {
   "cell_type": "code",
   "execution_count": 97,
   "id": "12d536b6-621e-4787-8613-ef01228aaf27",
   "metadata": {},
   "outputs": [
    {
     "name": "stdout",
     "output_type": "stream",
     "text": [
      "Model: \"sequential_35\"\n",
      "_________________________________________________________________\n",
      " Layer (type)                Output Shape              Param #   \n",
      "=================================================================\n",
      " dense_105 (Dense)           (None, 128)               128128    \n",
      "                                                                 \n",
      " dropout_70 (Dropout)        (None, 128)               0         \n",
      "                                                                 \n",
      " dense_106 (Dense)           (None, 128)               16512     \n",
      "                                                                 \n",
      " dropout_71 (Dropout)        (None, 128)               0         \n",
      "                                                                 \n",
      " dense_107 (Dense)           (None, 1)                 129       \n",
      "                                                                 \n",
      "=================================================================\n",
      "Total params: 144,769\n",
      "Trainable params: 144,769\n",
      "Non-trainable params: 0\n",
      "_________________________________________________________________\n"
     ]
    }
   ],
   "source": [
    "# Visualize the ANN model with TF-IDF\n",
    "testModel = buildANN_Model(0.0001)\n",
    "testModel.summary()"
   ]
  },
  {
   "cell_type": "code",
   "execution_count": 98,
   "id": "2850b538-1dfc-4986-a424-cf2f848feebe",
   "metadata": {},
   "outputs": [],
   "source": [
    "def gridSearch(eta_to_try, X_train, y_train, X_valid, y_valid):\n",
    "    \"\"\"\n",
    "        Hyperparameter optimizer for ANN using TF-IDF\n",
    "        Input: list of floats eta_to_try\n",
    "        Output: (keras.callbacks.History best_history, float best_eta) current_best[1:]\n",
    "    \"\"\"\n",
    "    callbacks_list =  [tf.keras.callbacks.EarlyStopping(monitor=\"val_loss\", patience = 5, mode = \"min\")]\n",
    "\n",
    "    current_best = (0, None, None)\n",
    "    for eta in eta_to_try:\n",
    "        print(\"Now fitting model with eta =\", eta)\n",
    "        this_model = buildANN_Model(eta)\n",
    "        this_history = this_model.fit(X_train,\n",
    "                            y = y_train,\n",
    "                            validation_data = (X_val, y_val),\n",
    "                            epochs = 50,\n",
    "                            callbacks = callbacks_list,\n",
    "                            verbose = 0\n",
    "                           )\n",
    "        print(\"Got last validation accuracy of:\", this_history.history[\"val_accuracy\"][-1])\n",
    "        if this_history.history[\"val_accuracy\"][-1] > current_best[0]:\n",
    "            current_best = (this_history.history[\"val_accuracy\"][-1], this_history, eta)\n",
    "        \n",
    "    return(current_best[1:])"
   ]
  },
  {
   "cell_type": "code",
   "execution_count": 99,
   "id": "e1bec35e-4843-4bf1-a4ee-c7a54326b916",
   "metadata": {},
   "outputs": [
    {
     "name": "stdout",
     "output_type": "stream",
     "text": [
      "Now fitting model with eta = 1e-05\n",
      "Got last validation accuracy of: 0.6426229476928711\n",
      "Now fitting model with eta = 5e-05\n",
      "Got last validation accuracy of: 0.7803278565406799\n",
      "Now fitting model with eta = 0.0001\n",
      "Got last validation accuracy of: 0.7754098176956177\n",
      "Now fitting model with eta = 0.0005\n",
      "Got last validation accuracy of: 0.7754098176956177\n",
      "Now fitting model with eta = 0.001\n",
      "Got last validation accuracy of: 0.7639344334602356\n",
      "Now fitting model with eta = 0.005\n",
      "Got last validation accuracy of: 0.7622950673103333\n",
      "Now fitting model with eta = 0.01\n",
      "Got last validation accuracy of: 0.7524589896202087\n"
     ]
    }
   ],
   "source": [
    "eta_to_try = [1e-5, 5e-5, 1e-4, 5e-4, 1e-3, 5e-3, 1e-2]\n",
    "(best_history, best_eta) = gridSearch(eta_to_try, X_train, y_train, X_val, y_val)"
   ]
  },
  {
   "cell_type": "code",
   "execution_count": 112,
   "id": "14432def-07f2-4c3e-b19f-77ffb444c1aa",
   "metadata": {},
   "outputs": [
    {
     "data": {
      "image/png": "[encoded data removed]",
      "text/plain": [
       "<Figure size 432x288 with 1 Axes>"
      ]
     },
     "metadata": {
      "needs_background": "light"
     },
     "output_type": "display_data"
    }
   ],
   "source": [
    "# Make visualization of accuracy and val accuracy vs. epoch for best model\n",
    "epochs = [i + 1 for i in range(20)]\n",
    "\n",
    "line1, = plt.plot(epochs, best_history.history[\"accuracy\"], zorder = 0, label = \"Training Accuracy\")\n",
    "line2, = plt.plot(epochs, best_history.history[\"val_accuracy\"], zorder = 1, label = \"Validation Accuracy\")\n",
    "\n",
    "plt.legend(handles = [line1, line2])\n",
    "plt.xlabel(\"Epoch\")\n",
    "plt.ylabel(\"Accuracy\")\n",
    "plt.title(\"Accuracy Vs. Epoch for TF-IDF Model\")\n",
    "plt.show()"
   ]
  },
  {
   "cell_type": "code",
   "execution_count": 113,
   "id": "f2d91dd8-6e2d-468a-b6bb-437f6df5653c",
   "metadata": {},
   "outputs": [
    {
     "data": {
      "image/png": "[encoded data removed]",
      "text/plain": [
       "<Figure size 432x288 with 1 Axes>"
      ]
     },
     "metadata": {
      "needs_background": "light"
     },
     "output_type": "display_data"
    }
   ],
   "source": [
    "# Make visualization of loss, val_loss vs. epoch for best model\n",
    "line1, = plt.plot(epochs, best_history.history[\"loss\"], zorder = 0, label = \"Training Loss\")\n",
    "line2, = plt.plot(epochs, best_history.history[\"val_loss\"], zorder = 1, label = \"Validation Loss\")\n",
    "\n",
    "plt.legend(handles = [line1, line2])\n",
    "plt.xlabel(\"Epoch\")\n",
    "plt.ylabel(\"Loss\")\n",
    "plt.title(\"Loss (Binary Cross-Entropy) Vs. Epoch for TF-IDF Model\")\n",
    "plt.show()"
   ]
  },
  {
   "cell_type": "markdown",
   "id": "bb8d478a-b671-4bf5-b2d6-1b730a9de977",
   "metadata": {},
   "source": [
    "### Model Commentary:\n",
    "\n",
    "The best model started with $\\eta = 5 \\times 10^{-5}$. I used learning rate scheduling to help prevent overfitting. The graphs show that the optimal number of epochs to train the model was either 10 or 11, because the validation loss did not decrease nor the accuracy meaningfully increase after that. Let's go ahead and make predictions on the test set, submit to kaggle, then compare against the RNN model. For my RNN I will use the Long Short Term Memory model from the Keras API."
   ]
  },
  {
   "cell_type": "code",
   "execution_count": 136,
   "id": "dbabef65-9761-4a01-8f27-15742240a35e",
   "metadata": {},
   "outputs": [
    {
     "name": "stdout",
     "output_type": "stream",
     "text": [
      "102/102 [==============================] - 1s 5ms/step\n"
     ]
    }
   ],
   "source": [
    "#Make test set predictions\n",
    "\n",
    "yhat = best_history.model.predict(X_test)\n",
    "yhat = yhat.reshape(yhat.shape[0], )\n",
    "yhat = yhat.tolist()\n",
    "predictions = [round(yhat[i]) for i in range(len(yhat))]\n",
    "tweets_test_df[\"target\"] = predictions\n",
    "tweets_test_df.to_csv(\"./ANNPrediction.csv\")"
   ]
  },
  {
   "attachments": {
    "23e74fe5-59eb-4985-8cd4-fa9094921386.png": {
     "image/png": "[encoded data removed]"
    }
   },
   "cell_type": "markdown",
   "id": "0dc11246-e306-47c7-9604-8bebfe23ebf1",
   "metadata": {},
   "source": [
    "![image.png](attachment:23e74fe5-59eb-4985-8cd4-fa9094921386.png)"
   ]
  },
  {
   "cell_type": "markdown",
   "id": "2a87cc8d-cb8d-46a4-a40a-9be3208a6d64",
   "metadata": {},
   "source": [
    "78% accuracy isn't great. Hopefully using an RNN we can do better. Let's try!"
   ]
  },
  {
   "cell_type": "code",
   "execution_count": 20,
   "id": "8c072a46-7b21-4815-a393-eb76b81f3077",
   "metadata": {},
   "outputs": [],
   "source": [
    "# Citation https://medium.com/when-i-work-data/converting-a-pandas-dataframe-into-a-tensorflow-dataset-752f3783c168\n",
    "#Make training, validation, and test TensorSlices Data objects from pandas dataframes.\n",
    "from random import sample\n",
    "import math\n",
    "val_size = 0.08\n",
    "num_train = math.floor((1 - val_size) * tweets_train_df.shape[0])\n",
    "train_rows = sample([i for i in range(tweets_train_df.shape[0])], num_train)\n",
    "val_rows = [i for i in range(tweets_train_df.shape[0]) if not i in train_rows]\n",
    "\n",
    "training_df = tweets_train_df.iloc[train_rows]\n",
    "validation_df = tweets_train_df.iloc[val_rows]\n",
    "\n",
    "features = \"text\"\n",
    "training_dataset = (\n",
    "    tf.data.Dataset.from_tensor_slices(\n",
    "        (\n",
    "            tf.cast(training_df[features].values, tf.string),\n",
    "            tf.cast(training_df['target'].values, tf.int32)\n",
    "        )\n",
    "    )\n",
    ")\n",
    "\n",
    "validation_dataset = (\n",
    "    tf.data.Dataset.from_tensor_slices(\n",
    "        (\n",
    "            tf.cast(validation_df[features].values, tf.string),\n",
    "            tf.cast(validation_df['target'].values, tf.int32)\n",
    "        )\n",
    "    )\n",
    ")\n",
    "\n",
    "test_dataset = (\n",
    "    tf.data.Dataset.from_tensor_slices(\n",
    "        (\n",
    "            tf.cast(tweets_test_df[\"text\"].values, tf.string)\n",
    "        )\n",
    "    )\n",
    ")"
   ]
  },
  {
   "cell_type": "code",
   "execution_count": 21,
   "id": "683cd6f7-d690-4102-a31a-5ed9a15e317f",
   "metadata": {},
   "outputs": [
    {
     "name": "stdout",
     "output_type": "stream",
     "text": [
      "text:  b'president barack obama air meltdown opposition iran nuclear deal http co rvotkj via examinercom'\n",
      "label:  1\n"
     ]
    }
   ],
   "source": [
    "BUFFER_SIZE = 10000\n",
    "BATCH_SIZE = 10\n",
    "\n",
    "for example, label in training_dataset.take(1):\n",
    "  print('text: ', example.numpy())\n",
    "  print('label: ', label.numpy())\n",
    "    \n",
    "training_dataset = training_dataset.shuffle(BUFFER_SIZE).batch(BATCH_SIZE)\n",
    "validation_dataset = validation_dataset.batch(BATCH_SIZE)\n",
    "test_dataset = test_dataset.batch(BATCH_SIZE)"
   ]
  },
  {
   "cell_type": "code",
   "execution_count": 13,
   "id": "00ed47dc-9c12-43ce-8f89-cf0cab325a0a",
   "metadata": {},
   "outputs": [],
   "source": [
    "#Make auto encoder that uses the same number of features as TF-IDF\n",
    "#Citation https://www.tensorflow.org/text/tutorials/text_classification_rnn\n",
    "num_words = 1000\n",
    "encoder = tf.keras.layers.TextVectorization(\n",
    "max_tokens = num_words)\n",
    "encoder.adapt(training_dataset.map(lambda text, label: text)\n",
    ")\n",
    "\n",
    "def buildRNN_Model(eta):\n",
    "    \"\"\"\n",
    "        \n",
    "    \"\"\"\n",
    "    \n",
    "    model = tf.keras.Sequential([\n",
    "    encoder,\n",
    "    tf.keras.layers.Embedding(\n",
    "    input_dim = len(encoder.get_vocabulary()),\n",
    "    output_dim = 128,\n",
    "    mask_zero = True),\n",
    "    tf.keras.layers.Bidirectional(tf.keras.layers.LSTM(128)),\n",
    "    tf.keras.layers.Dense(64, activation = \"relu\"),\n",
    "    tf.keras.layers.Dropout(0.5),\n",
    "    tf.keras.layers.Dense(16, activation = \"relu\"),\n",
    "    tf.keras.layers.Dense(1, activation = \"sigmoid\")\n",
    "    ])\n",
    "    \n",
    "    lr_schedule = tf.keras.optimizers.schedules.ExponentialDecay(\n",
    "      initial_learning_rate = eta,\n",
    "      decay_steps = 1000,\n",
    "      decay_rate=0.9\n",
    "    ) \n",
    "    \n",
    "    model.compile(\n",
    "        optimizer = tf.keras.optimizers.Adam(learning_rate = lr_schedule),\n",
    "        loss = \"binary_crossentropy\",\n",
    "        metrics = [\"accuracy\"]\n",
    "    )    \n",
    "    return(model)\n",
    "\n",
    "def gridSearchRNN(eta_to_try, training_dataset):\n",
    "    \"\"\"\n",
    "        Hyperparameter optimizer for RNN with autoencoder\n",
    "        Input: list of floats eta_to_try\n",
    "        Output: (keras.callbacks.History best_history, float best_eta) current_best[1:]\n",
    "    \"\"\"\n",
    "    callbacks_list =  [tf.keras.callbacks.EarlyStopping(monitor=\"val_loss\", patience = 5, mode = \"min\")]\n",
    "\n",
    "    current_best = (0, None, None)\n",
    "    for eta in eta_to_try:\n",
    "        print(\"Now fitting model with eta =\", eta)\n",
    "        this_model = buildRNN_Model(eta)\n",
    "        this_history = this_model.fit(training_dataset,\n",
    "                            validation_data = validation_dataset,\n",
    "                            epochs = 50,\n",
    "                            callbacks = callbacks_list,\n",
    "                            verbose = 0\n",
    "                           )\n",
    "        print(\"Got last validation accuracy of:\", this_history.history[\"val_accuracy\"][-1])\n",
    "        if this_history.history[\"val_accuracy\"][-1] > current_best[0]:\n",
    "            current_best = (this_history.history[\"val_accuracy\"][-1], this_history, eta)\n",
    "        \n",
    "    return(current_best[1:])"
   ]
  },
  {
   "cell_type": "code",
   "execution_count": 14,
   "id": "e3c21177-c367-45fd-b335-ce2822ffcd3c",
   "metadata": {},
   "outputs": [
    {
     "name": "stdout",
     "output_type": "stream",
     "text": [
      "Now fitting model with eta = 1e-05\n",
      "Got last validation accuracy of: 0.7868852615356445\n",
      "Now fitting model with eta = 5e-05\n",
      "Got last validation accuracy of: 0.7901639342308044\n",
      "Now fitting model with eta = 0.0001\n",
      "Got last validation accuracy of: 0.7803278565406799\n",
      "Now fitting model with eta = 0.0005\n",
      "Got last validation accuracy of: 0.757377028465271\n",
      "Now fitting model with eta = 0.001\n",
      "Got last validation accuracy of: 0.7672131061553955\n"
     ]
    }
   ],
   "source": [
    "eta_to_try = [1e-5, 5e-5, 1e-4, 5e-4, 1e-3]\n",
    "(best_history, best_eta) = gridSearchRNN(eta_to_try, training_dataset)"
   ]
  },
  {
   "cell_type": "code",
   "execution_count": 15,
   "id": "ffa272e1-9722-4f2d-b3f8-71189462a715",
   "metadata": {},
   "outputs": [
    {
     "name": "stdout",
     "output_type": "stream",
     "text": [
      "Model: \"sequential_1\"\n",
      "_________________________________________________________________\n",
      " Layer (type)                Output Shape              Param #   \n",
      "=================================================================\n",
      " text_vectorization (TextVec  (None, None)             0         \n",
      " torization)                                                     \n",
      "                                                                 \n",
      " embedding_1 (Embedding)     (None, None, 128)         128000    \n",
      "                                                                 \n",
      " bidirectional_1 (Bidirectio  (None, 256)              263168    \n",
      " nal)                                                            \n",
      "                                                                 \n",
      " dense_3 (Dense)             (None, 64)                16448     \n",
      "                                                                 \n",
      " dropout_1 (Dropout)         (None, 64)                0         \n",
      "                                                                 \n",
      " dense_4 (Dense)             (None, 16)                1040      \n",
      "                                                                 \n",
      " dense_5 (Dense)             (None, 1)                 17        \n",
      "                                                                 \n",
      "=================================================================\n",
      "Total params: 408,673\n",
      "Trainable params: 408,673\n",
      "Non-trainable params: 0\n",
      "_________________________________________________________________\n"
     ]
    }
   ],
   "source": [
    "best_history.model.summary()"
   ]
  },
  {
   "cell_type": "code",
   "execution_count": 17,
   "id": "aafa965f-5f29-4767-9f46-abe7da7292d6",
   "metadata": {},
   "outputs": [
    {
     "data": {
      "image/png": "[encoded data removed]",
      "text/plain": [
       "<Figure size 432x288 with 1 Axes>"
      ]
     },
     "metadata": {
      "needs_background": "light"
     },
     "output_type": "display_data"
    }
   ],
   "source": [
    "# Make visualization of accuracy and val accuracy vs. epoch for best model\n",
    "epochs = [i + 1 for i in range(12)]\n",
    "\n",
    "line1, = plt.plot(epochs, best_history.history[\"accuracy\"], zorder = 0, label = \"Training Accuracy\")\n",
    "line2, = plt.plot(epochs, best_history.history[\"val_accuracy\"], zorder = 1, label = \"Validation Accuracy\")\n",
    "\n",
    "plt.legend(handles = [line1, line2])\n",
    "plt.xlabel(\"Epoch\")\n",
    "plt.ylabel(\"Accuracy\")\n",
    "plt.title(\"Accuracy Vs. Epoch for TF-IDF Model\")\n",
    "plt.show()"
   ]
  },
  {
   "cell_type": "code",
   "execution_count": 18,
   "id": "1e685ed1-5818-42f1-a469-2f5eb2f27a6f",
   "metadata": {},
   "outputs": [
    {
     "data": {
      "image/png": "[encoded data removed]",
      "text/plain": [
       "<Figure size 432x288 with 1 Axes>"
      ]
     },
     "metadata": {
      "needs_background": "light"
     },
     "output_type": "display_data"
    }
   ],
   "source": [
    "# Make visualization of loss, val_loss vs. epoch for best model\n",
    "line1, = plt.plot(epochs, best_history.history[\"loss\"], zorder = 0, label = \"Training Loss\")\n",
    "line2, = plt.plot(epochs, best_history.history[\"val_loss\"], zorder = 1, label = \"Validation Loss\")\n",
    "\n",
    "plt.legend(handles = [line1, line2])\n",
    "plt.xlabel(\"Epoch\")\n",
    "plt.ylabel(\"Loss\")\n",
    "plt.title(\"Loss (Binary Cross-Entropy) Vs. Epoch for TF-IDF Model\")\n",
    "plt.show()"
   ]
  },
  {
   "cell_type": "code",
   "execution_count": 23,
   "id": "bab5fbf0-8f70-41b2-8d69-5dd71d70e04e",
   "metadata": {},
   "outputs": [
    {
     "data": {
      "text/plain": [
       "5e-05"
      ]
     },
     "execution_count": 23,
     "metadata": {},
     "output_type": "execute_result"
    }
   ],
   "source": [
    "best_eta"
   ]
  },
  {
   "cell_type": "markdown",
   "id": "47b87bdb-2e62-4a2e-b3a6-65f9e08d07b8",
   "metadata": {},
   "source": [
    "## Model Commentary:\n",
    "\n",
    "The best RNN model had $\\eta = 5 \\times 10^{-5}$. The best validation accuracy was 0.789, which is only barely better than the ANN with TF-IDF. That indicates to us that without inclusion of the keyword and location information, there is some reason to believe that there is a pretty low boundary on learnability. Some people just tweet like the world's on fire. We need to submit our test results to Kaggle to make a fair comparison though. Let's do that."
   ]
  },
  {
   "cell_type": "code",
   "execution_count": 22,
   "id": "33784ce5-e95f-4b33-84cd-d7afb3ac1caa",
   "metadata": {},
   "outputs": [
    {
     "name": "stdout",
     "output_type": "stream",
     "text": [
      "327/327 [==============================] - 5s 7ms/step\n"
     ]
    }
   ],
   "source": [
    "#Make test set predictions\n",
    "\n",
    "yhat = best_history.model.predict(test_dataset)\n",
    "yhat = yhat.reshape(yhat.shape[0], )\n",
    "yhat = yhat.tolist()\n",
    "predictions = [round(yhat[i]) for i in range(len(yhat))]\n",
    "tweets_test_df[\"target\"] = predictions\n",
    "tweets_test_df.to_csv(\"./RNNPrediction.csv\")"
   ]
  }
 ],
 "metadata": {
  "kernelspec": {
   "display_name": "Python 3 (ipykernel)",
   "language": "python",
   "name": "python3"
  },
  "language_info": {
   "codemirror_mode": {
    "name": "ipython",
    "version": 3
   },
   "file_extension": ".py",
   "mimetype": "text/x-python",
   "name": "python",
   "nbconvert_exporter": "python",
   "pygments_lexer": "ipython3",
   "version": "3.9.12"
  }
 },
 "nbformat": 4,
 "nbformat_minor": 5
}
